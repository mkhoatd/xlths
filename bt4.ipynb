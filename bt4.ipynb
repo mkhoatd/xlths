{
 "cells": [
  {
   "cell_type": "code",
   "execution_count": 35,
   "id": "790eba5e",
   "metadata": {},
   "outputs": [],
   "source": [
    "import matplotlib\n",
    "import matplotlib.pyplot as plt\n",
    "import numpy as np\n",
    "import math \n",
    "import seaborn as sns\n",
    "import pandas as pd"
   ]
  },
  {
   "cell_type": "code",
   "execution_count": 92,
   "id": "8db11def",
   "metadata": {},
   "outputs": [],
   "source": [
    "pi = math.pi\n",
    "\n",
    "\n",
    "t_i = 0 # T intial\n",
    "t_f = 2 # T final\n",
    "t = t_f - t_i\n",
    "\n",
    "A=2 # Amplitude\n",
    "F0 = 1000 # sampling frequency F0\n",
    "F1 = F0*3 # sampling frequency F1\n",
    "F2 = F0*1.5 # sampling frequency F2\n",
    "phi = 0\n",
    "step=0.00001\n",
    "t=np.arange(t_i,t_f+step,step)\n",
    "\n",
    "x1=A*np.cos(2*pi*F1*t+phi)\n",
    "x2=A*np.cos(2*pi*F2*t+phi)"
   ]
  },
  {
   "cell_type": "code",
   "execution_count": 94,
   "id": "12271e34",
   "metadata": {},
   "outputs": [
    {
     "data": {
      "image/png": "[encoded data removed]",
      "text/plain": [
       "<Figure size 432x288 with 1 Axes>"
      ]
     },
     "metadata": {
      "needs_background": "light"
     },
     "output_type": "display_data"
    }
   ],
   "source": [
    "plt.plot(t,x1,'r')\n",
    "plt.plot(t,x2,'b')\n",
    "plt.savefig(\"bt4.svg\")"
   ]
  },
  {
   "cell_type": "code",
   "execution_count": null,
   "id": "2bde3453",
   "metadata": {},
   "outputs": [],
   "source": []
  }
 ],
 "metadata": {
  "kernelspec": {
   "display_name": "Python 3.8.13 ('torch')",
   "language": "python",
   "name": "python3"
  },
  "language_info": {
   "codemirror_mode": {
    "name": "ipython",
    "version": 3
   },
   "file_extension": ".py",
   "mimetype": "text/x-python",
   "name": "python",
   "nbconvert_exporter": "python",
   "pygments_lexer": "ipython3",
   "version": "3.8.13"
  },
  "vscode": {
   "interpreter": {
    "hash": "0b5a77bf552b230920654c44cb53c65466f608caadb484061e7fb072c7a70cdc"
   }
  }
 },
 "nbformat": 4,
 "nbformat_minor": 5
}
