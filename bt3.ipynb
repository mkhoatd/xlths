{
 "cells": [
  {
   "cell_type": "code",
   "execution_count": 3,
   "id": "c953f042",
   "metadata": {},
   "outputs": [],
   "source": [
    "import matplotlib\n",
    "import matplotlib.pyplot as plt\n",
    "import numpy as np\n",
    "import IPython\n",
    "from scipy.io import wavfile"
   ]
  },
  {
   "cell_type": "code",
   "execution_count": 4,
   "id": "3736044d",
   "metadata": {},
   "outputs": [],
   "source": [
    "Fs , x = wavfile.read('audio1.wav') "
   ]
  },
  {
   "cell_type": "code",
   "execution_count": 8,
   "id": "eefe9fe9",
   "metadata": {},
   "outputs": [
    {
     "data": {
      "text/plain": [
       "1.728"
      ]
     },
     "execution_count": 8,
     "metadata": {},
     "output_type": "execute_result"
    }
   ],
   "source": [
    "#samples=frequency*duration"
   ]
  },
  {
   "cell_type": "code",
   "execution_count": 13,
   "id": "4948b081",
   "metadata": {},
   "outputs": [
    {
     "name": "stdout",
     "output_type": "stream",
     "text": [
      "Length of x in samples:\n",
      "82944\n",
      "  \n",
      "Length of x in seconds:\n",
      "1.728\n",
      "  \n",
      "The shape of x:\n",
      "(82944,)\n"
     ]
    }
   ],
   "source": [
    "print(\"Length of x in samples:\")\n",
    "print(x.shape[0]) # length of x in samples\n",
    "\n",
    "print(\"  \")\n",
    "\n",
    "print(\"Length of x in seconds:\")\n",
    "t = x.shape[0]/Fs\n",
    "print(t) # Length of x in seconds\n",
    "\n",
    "# ts = np.arange(1,x.shape[0])/Fs # array of time\n",
    "ts=np.linspace(0,t,x.shape[0])\n",
    "\n",
    "print(\"  \")\n",
    "\n",
    "print(\"The shape of x:\")\n",
    "print(x.shape) # the shape of x\n"
   ]
  },
  {
   "cell_type": "code",
   "execution_count": 14,
   "id": "e6e9d6be",
   "metadata": {},
   "outputs": [
    {
     "data": {
      "text/plain": [
       "[<matplotlib.lines.Line2D at 0x7fca84249f10>]"
      ]
     },
     "execution_count": 14,
     "metadata": {},
     "output_type": "execute_result"
    },
    {
     "data": {
      "image/png": "[encoded data removed]",
      "text/plain": [
       "<Figure size 432x288 with 1 Axes>"
      ]
     },
     "metadata": {
      "needs_background": "light"
     },
     "output_type": "display_data"
    }
   ],
   "source": [
    "plt.plot(ts,x)"
   ]
  },
  {
   "cell_type": "code",
   "execution_count": null,
   "id": "a1fea778",
   "metadata": {},
   "outputs": [],
   "source": []
  }
 ],
 "metadata": {
  "kernelspec": {
   "display_name": "Python 3.8.13 ('torch')",
   "language": "python",
   "name": "python3"
  },
  "language_info": {
   "codemirror_mode": {
    "name": "ipython",
    "version": 3
   },
   "file_extension": ".py",
   "mimetype": "text/x-python",
   "name": "python",
   "nbconvert_exporter": "python",
   "pygments_lexer": "ipython3",
   "version": "3.8.13"
  },
  "vscode": {
   "interpreter": {
    "hash": "0b5a77bf552b230920654c44cb53c65466f608caadb484061e7fb072c7a70cdc"
   }
  }
 },
 "nbformat": 4,
 "nbformat_minor": 5
}
